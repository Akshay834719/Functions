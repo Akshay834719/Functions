{
  "nbformat": 4,
  "nbformat_minor": 0,
  "metadata": {
    "colab": {
      "provenance": []
    },
    "kernelspec": {
      "name": "python3",
      "display_name": "Python 3"
    },
    "language_info": {
      "name": "python"
    }
  },
  "cells": [
    {
      "cell_type": "markdown",
      "source": [
        "#Functions"
      ],
      "metadata": {
        "id": "z1H-DFq9WayX"
      }
    },
    {
      "cell_type": "markdown",
      "source": [
        "1. what is your name ?\n",
        "- my name is akshay\n",
        "2. question ?\n",
        "- Answer"
      ],
      "metadata": {
        "id": "6S24Gc6_Wi-s"
      }
    },
    {
      "cell_type": "code",
      "execution_count": 1,
      "metadata": {
        "colab": {
          "base_uri": "https://localhost:8080/",
          "height": 35
        },
        "id": "pIbFgRoUWKd1",
        "outputId": "b0187151-2802-4506-b892-88a1925c5242"
      },
      "outputs": [
        {
          "output_type": "execute_result",
          "data": {
            "text/plain": [
              "'\\nthis is answer\\n\\n'"
            ],
            "application/vnd.google.colaboratory.intrinsic+json": {
              "type": "string"
            }
          },
          "metadata": {},
          "execution_count": 1
        }
      ],
      "source": [
        "# question\n",
        "'''\n",
        "this is answer\n",
        "\n",
        "'''"
      ]
    }
  ]
}